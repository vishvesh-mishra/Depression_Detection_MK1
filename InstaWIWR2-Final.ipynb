{
 "cells": [
  {
   "cell_type": "code",
   "execution_count": 1,
   "id": "bc4be2f6",
   "metadata": {},
   "outputs": [],
   "source": [
    "import requests\n",
    "import pandas as pd"
   ]
  },
  {
   "cell_type": "code",
   "execution_count": 2,
   "id": "e36eb226",
   "metadata": {},
   "outputs": [],
   "source": [
    "#url = f'https://graph.instagram.com/me/media?fields=id,caption,media_type,media_url,timestamp&access_token="
   ]
  },
  {
   "cell_type": "code",
   "execution_count": 3,
   "id": "65ce47c5",
   "metadata": {},
   "outputs": [],
   "source": [
    "response = requests.get(url)"
   ]
  },
  {
   "cell_type": "code",
   "execution_count": 4,
   "id": "48208fee",
   "metadata": {},
   "outputs": [],
   "source": [
    "if response.status_code == 200:\n",
    "    data = response.json()\n",
    "else:\n",
    "    print(\"Error making the API request:\", response.text)\n",
    "    data = None"
   ]
  },
  {
   "cell_type": "code",
   "execution_count": 5,
   "id": "c1e96d4f",
   "metadata": {},
   "outputs": [
    {
     "data": {
      "text/plain": [
       "{'data': [{'id': '18049687408639342',\n",
       "   'caption': 'It gets tougher everyday',\n",
       "   'media_type': 'IMAGE',\n",
       "   'media_url': 'https://scontent.cdninstagram.com/v/t51.29350-15/440914603_1148341009700329_8794870000605352566_n.jpg?_nc_cat=105&ccb=1-7&_nc_sid=18de74&_nc_ohc=5CeyvfsYTl0Q7kNvgFC79b1&_nc_ht=scontent.cdninstagram.com&edm=ANo9K5cEAAAA&oh=00_AfAJtyRvedo79sr_uVYsFl7Onjc42qva6ukmLhRqdh7pgA&oe=663C0B92',\n",
       "   'timestamp': '2024-05-04T10:29:34+0000'}],\n",
       " 'paging': {'cursors': {'before': 'QVFIUmwwb1FXR3NxeU5ZAUWptdDBFVlJQSU1PbVprMk9GTHMxSHdwZAk42OGNyRzhab3gwWFE1TEJvTUlmdTg5MVZArU3BWMm84MHByaFZA0cTcwR1hVa2h2M3lR',\n",
       "   'after': 'QVFIUmwwb1FXR3NxeU5ZAUWptdDBFVlJQSU1PbVprMk9GTHMxSHdwZAk42OGNyRzhab3gwWFE1TEJvTUlmdTg5MVZArU3BWMm84MHByaFZA0cTcwR1hVa2h2M3lR'}}}"
      ]
     },
     "execution_count": 5,
     "metadata": {},
     "output_type": "execute_result"
    }
   ],
   "source": [
    "data"
   ]
  },
  {
   "cell_type": "code",
   "execution_count": 6,
   "id": "41e9a646",
   "metadata": {},
   "outputs": [],
   "source": [
    "if data:\n",
    "    df = pd.DataFrame(data['data'])  # Assuming 'data' is a dictionary containing 'data' key with a list of records\n",
    "else:\n",
    "    df = pd.DataFrame(columns=['id', 'caption','mediatype','media_url','timestamp'])\n"
   ]
  },
  {
   "cell_type": "code",
   "execution_count": 7,
   "id": "0fa1078b",
   "metadata": {
    "scrolled": true
   },
   "outputs": [
    {
     "name": "stdout",
     "output_type": "stream",
     "text": [
      "                  id                   caption media_type  \\\n",
      "0  18049687408639342  It gets tougher everyday      IMAGE   \n",
      "\n",
      "                                           media_url                 timestamp  \n",
      "0  https://scontent.cdninstagram.com/v/t51.29350-...  2024-05-04T10:29:34+0000  \n"
     ]
    }
   ],
   "source": [
    "print(df)"
   ]
  },
  {
   "cell_type": "code",
   "execution_count": 8,
   "id": "0b1b3b7e",
   "metadata": {},
   "outputs": [],
   "source": [
    "df.to_csv('instagram_data.csv', index=False)"
   ]
  },
  {
   "cell_type": "code",
   "execution_count": 9,
   "id": "f8840746",
   "metadata": {},
   "outputs": [],
   "source": [
    "import tensorflow as tf\n",
    "from tensorflow.keras.preprocessing.text import Tokenizer\n",
    "from sklearn.model_selection import train_test_split\n",
    "from keras.preprocessing.sequence import pad_sequences\n",
    "from keras.models import Sequential\n",
    "from keras.models import Model\n",
    "\n",
    "from keras.layers import Embedding, Bidirectional, LSTM, Dense, Input, Concatenate, Dot, Activation"
   ]
  },
  {
   "cell_type": "code",
   "execution_count": 10,
   "id": "c57386fc",
   "metadata": {},
   "outputs": [],
   "source": [
    "from ocr import get_text"
   ]
  },
  {
   "cell_type": "code",
   "execution_count": 11,
   "id": "333c42de",
   "metadata": {},
   "outputs": [],
   "source": [
    "training_data = pd.read_csv('training_data.csv')"
   ]
  },
  {
   "cell_type": "code",
   "execution_count": 12,
   "id": "d59bb3e9",
   "metadata": {},
   "outputs": [],
   "source": [
    "instagram_data = pd.read_csv('instagram_data.csv')\n"
   ]
  },
  {
   "cell_type": "code",
   "execution_count": 13,
   "id": "e1ca9d56",
   "metadata": {},
   "outputs": [
    {
     "name": "stdout",
     "output_type": "stream",
     "text": [
      "                  id                 timestamp  \\\n",
      "0  18049687408639342  2024-05-04T10:29:34+0000   \n",
      "1  18049687408639342  2024-05-04T10:29:34+0000   \n",
      "\n",
      "                                                text  \n",
      "0  Everyday it gets harder.\\n\\nEveryday it's like...  \n",
      "1                           It gets tougher everyday  \n"
     ]
    }
   ],
   "source": [
    "new_data = []\n",
    "for index, row in df.iterrows():\n",
    "    new_row = {'id': row['id'], 'timestamp': row['timestamp']}\n",
    "    flag = 0\n",
    "    if row['media_type'] == 'IMAGE':\n",
    "        # Perform OCR on the image URL\n",
    "        ocr_text = get_text(row['media_url'])\n",
    "        if ocr_text:\n",
    "            new_row['text'] = ocr_text\n",
    "            flag = 1\n",
    "        else:\n",
    "        # Use caption as text\n",
    "            new_row['text'] = row['caption']    \n",
    "    else:\n",
    "        # Use caption as text\n",
    "        new_row['text'] = row['caption']\n",
    "    new_data.append(new_row)\n",
    "    if flag == 1:\n",
    "        new_row_2 = {'id': row['id'], 'timestamp': row['timestamp'],'text':row['caption']}\n",
    "        new_data.append(new_row_2)\n",
    "\n",
    "# Create new DataFrame\n",
    "new_df = pd.DataFrame(new_data)\n",
    "print(new_df)"
   ]
  },
  {
   "cell_type": "code",
   "execution_count": 14,
   "id": "fc7d9c9f",
   "metadata": {},
   "outputs": [],
   "source": [
    "new_df.to_csv('test.csv')"
   ]
  },
  {
   "cell_type": "code",
   "execution_count": 15,
   "id": "f9271148",
   "metadata": {},
   "outputs": [],
   "source": [
    "new_df.dropna(subset=['text'], inplace=True)\n",
    "X_train = training_data['caption'].astype(str)\n",
    "y_train = training_data['depression_label']\n",
    "X_test = new_df['text'].astype(str)"
   ]
  },
  {
   "cell_type": "code",
   "execution_count": 16,
   "id": "fae6e4bf",
   "metadata": {},
   "outputs": [],
   "source": [
    "tokenizer = Tokenizer()\n",
    "tokenizer.fit_on_texts(X_train)\n",
    "X_train_seq = tokenizer.texts_to_sequences(X_train)\n",
    "X_test_seq = tokenizer.texts_to_sequences(X_test)"
   ]
  },
  {
   "cell_type": "code",
   "execution_count": 17,
   "id": "00446c59",
   "metadata": {},
   "outputs": [],
   "source": [
    "max_len = 100  # Define your maximum sequence length\n",
    "X_train_pad = pad_sequences(X_train_seq, maxlen=max_len, padding='post')\n",
    "X_test_pad = pad_sequences(X_test_seq, maxlen=max_len, padding='post')"
   ]
  },
  {
   "cell_type": "code",
   "execution_count": 18,
   "id": "c104f5fc",
   "metadata": {},
   "outputs": [],
   "source": [
    "input_layer = Input(shape=(max_len,))\n",
    "embedding_layer = Embedding(input_dim=len(tokenizer.word_index)+1, output_dim=100)(input_layer)\n",
    "lstm_layer = Bidirectional(LSTM(64, return_sequences=True))(embedding_layer)\n",
    "attention = Dense(1, activation='tanh')(lstm_layer)\n",
    "attention = Activation('sigmoid')(attention)\n",
    "context = Dot(axes=1)([attention, lstm_layer])\n",
    "output_layer = Dense(1, activation='sigmoid')(context)\n",
    "\n",
    "model = Model(inputs=[input_layer], outputs=output_layer)"
   ]
  },
  {
   "cell_type": "code",
   "execution_count": 19,
   "id": "e7624659",
   "metadata": {},
   "outputs": [],
   "source": [
    "model.compile(optimizer='adam', loss='binary_crossentropy', metrics=['accuracy'])"
   ]
  },
  {
   "cell_type": "code",
   "execution_count": 20,
   "id": "515d795d",
   "metadata": {},
   "outputs": [
    {
     "name": "stdout",
     "output_type": "stream",
     "text": [
      "Epoch 1/10\n",
      "\u001b[1m121/121\u001b[0m \u001b[32m━━━━━━━━━━━━━━━━━━━━\u001b[0m\u001b[37m\u001b[0m \u001b[1m11s\u001b[0m 60ms/step - accuracy: 0.8015 - loss: 0.5594\n",
      "Epoch 2/10\n",
      "\u001b[1m121/121\u001b[0m \u001b[32m━━━━━━━━━━━━━━━━━━━━\u001b[0m\u001b[37m\u001b[0m \u001b[1m8s\u001b[0m 63ms/step - accuracy: 0.9669 - loss: 0.1028\n",
      "Epoch 3/10\n",
      "\u001b[1m121/121\u001b[0m \u001b[32m━━━━━━━━━━━━━━━━━━━━\u001b[0m\u001b[37m\u001b[0m \u001b[1m8s\u001b[0m 64ms/step - accuracy: 0.9830 - loss: 0.0628\n",
      "Epoch 4/10\n",
      "\u001b[1m121/121\u001b[0m \u001b[32m━━━━━━━━━━━━━━━━━━━━\u001b[0m\u001b[37m\u001b[0m \u001b[1m8s\u001b[0m 65ms/step - accuracy: 0.9889 - loss: 0.0422\n",
      "Epoch 5/10\n",
      "\u001b[1m121/121\u001b[0m \u001b[32m━━━━━━━━━━━━━━━━━━━━\u001b[0m\u001b[37m\u001b[0m \u001b[1m9s\u001b[0m 71ms/step - accuracy: 0.9933 - loss: 0.0270\n",
      "Epoch 6/10\n",
      "\u001b[1m121/121\u001b[0m \u001b[32m━━━━━━━━━━━━━━━━━━━━\u001b[0m\u001b[37m\u001b[0m \u001b[1m9s\u001b[0m 73ms/step - accuracy: 0.9962 - loss: 0.0168\n",
      "Epoch 7/10\n",
      "\u001b[1m121/121\u001b[0m \u001b[32m━━━━━━━━━━━━━━━━━━━━\u001b[0m\u001b[37m\u001b[0m \u001b[1m8s\u001b[0m 70ms/step - accuracy: 0.9950 - loss: 0.0203\n",
      "Epoch 8/10\n",
      "\u001b[1m121/121\u001b[0m \u001b[32m━━━━━━━━━━━━━━━━━━━━\u001b[0m\u001b[37m\u001b[0m \u001b[1m9s\u001b[0m 73ms/step - accuracy: 0.9954 - loss: 0.0146\n",
      "Epoch 9/10\n",
      "\u001b[1m121/121\u001b[0m \u001b[32m━━━━━━━━━━━━━━━━━━━━\u001b[0m\u001b[37m\u001b[0m \u001b[1m9s\u001b[0m 72ms/step - accuracy: 0.9970 - loss: 0.0116\n",
      "Epoch 10/10\n",
      "\u001b[1m121/121\u001b[0m \u001b[32m━━━━━━━━━━━━━━━━━━━━\u001b[0m\u001b[37m\u001b[0m \u001b[1m8s\u001b[0m 67ms/step - accuracy: 0.9978 - loss: 0.0074\n"
     ]
    },
    {
     "data": {
      "text/plain": [
       "<keras.src.callbacks.history.History at 0x23c95da29c0>"
      ]
     },
     "execution_count": 20,
     "metadata": {},
     "output_type": "execute_result"
    }
   ],
   "source": [
    "model.fit(X_train_pad, y_train, epochs=10, batch_size=64)"
   ]
  },
  {
   "cell_type": "code",
   "execution_count": 21,
   "id": "c221f47b",
   "metadata": {},
   "outputs": [
    {
     "name": "stdout",
     "output_type": "stream",
     "text": [
      "\u001b[1m1/1\u001b[0m \u001b[32m━━━━━━━━━━━━━━━━━━━━\u001b[0m\u001b[37m\u001b[0m \u001b[1m0s\u001b[0m 305ms/step\n"
     ]
    }
   ],
   "source": [
    "predicted_labels = model.predict(X_test_pad)"
   ]
  },
  {
   "cell_type": "code",
   "execution_count": 22,
   "id": "c4d98655",
   "metadata": {},
   "outputs": [],
   "source": [
    "new_df['predicted_depression_label'] = predicted_labels.reshape(-1)\n"
   ]
  },
  {
   "cell_type": "code",
   "execution_count": 23,
   "id": "04d49a6d",
   "metadata": {},
   "outputs": [],
   "source": [
    "depressing_captions = new_df[new_df['predicted_depression_label'] > 0.9]['text']\n"
   ]
  },
  {
   "cell_type": "code",
   "execution_count": 24,
   "id": "b6981c3e",
   "metadata": {},
   "outputs": [
    {
     "name": "stdout",
     "output_type": "stream",
     "text": [
      "Everyday it gets harder.\n",
      "\n",
      "Everyday it's like a nightmare\n",
      "progressing on.\n",
      "\n",
      "Everyday is another prayer\n",
      "echohing from my bones\n",
      "asking God\n",
      "to take me now.\n",
      "\n",
      "Everyday I close up more.\n",
      "\n",
      "Everyday it gets more impossible.\n",
      "\n",
      "Everyday I feel myself die some more.\n",
      "\n",
      "Everyday | lay on my bed\n",
      "wondering how\n",
      "I'll leave this hell.\n",
      "\n",
      "I've never felt so much pain.\n",
      "\n"
     ]
    }
   ],
   "source": [
    "for text in depressing_captions:\n",
    "    print(text)\n"
   ]
  },
  {
   "cell_type": "code",
   "execution_count": 25,
   "id": "1d4401b7",
   "metadata": {},
   "outputs": [
    {
     "data": {
      "text/html": [
       "<div>\n",
       "<style scoped>\n",
       "    .dataframe tbody tr th:only-of-type {\n",
       "        vertical-align: middle;\n",
       "    }\n",
       "\n",
       "    .dataframe tbody tr th {\n",
       "        vertical-align: top;\n",
       "    }\n",
       "\n",
       "    .dataframe thead th {\n",
       "        text-align: right;\n",
       "    }\n",
       "</style>\n",
       "<table border=\"1\" class=\"dataframe\">\n",
       "  <thead>\n",
       "    <tr style=\"text-align: right;\">\n",
       "      <th></th>\n",
       "      <th>id</th>\n",
       "      <th>timestamp</th>\n",
       "      <th>text</th>\n",
       "      <th>predicted_depression_label</th>\n",
       "    </tr>\n",
       "  </thead>\n",
       "  <tbody>\n",
       "    <tr>\n",
       "      <th>0</th>\n",
       "      <td>18049687408639342</td>\n",
       "      <td>2024-05-04T10:29:34+0000</td>\n",
       "      <td>Everyday it gets harder.\\n\\nEveryday it's like...</td>\n",
       "      <td>1.000000</td>\n",
       "    </tr>\n",
       "    <tr>\n",
       "      <th>1</th>\n",
       "      <td>18049687408639342</td>\n",
       "      <td>2024-05-04T10:29:34+0000</td>\n",
       "      <td>It gets tougher everyday</td>\n",
       "      <td>0.547465</td>\n",
       "    </tr>\n",
       "  </tbody>\n",
       "</table>\n",
       "</div>"
      ],
      "text/plain": [
       "                  id                 timestamp  \\\n",
       "0  18049687408639342  2024-05-04T10:29:34+0000   \n",
       "1  18049687408639342  2024-05-04T10:29:34+0000   \n",
       "\n",
       "                                                text  \\\n",
       "0  Everyday it gets harder.\\n\\nEveryday it's like...   \n",
       "1                           It gets tougher everyday   \n",
       "\n",
       "   predicted_depression_label  \n",
       "0                    1.000000  \n",
       "1                    0.547465  "
      ]
     },
     "execution_count": 25,
     "metadata": {},
     "output_type": "execute_result"
    }
   ],
   "source": [
    "new_df"
   ]
  },
  {
   "cell_type": "code",
   "execution_count": null,
   "id": "b2ff5336",
   "metadata": {},
   "outputs": [],
   "source": []
  }
 ],
 "metadata": {
  "kernelspec": {
   "display_name": "Python 3 (ipykernel)",
   "language": "python",
   "name": "python3"
  },
  "language_info": {
   "codemirror_mode": {
    "name": "ipython",
    "version": 3
   },
   "file_extension": ".py",
   "mimetype": "text/x-python",
   "name": "python",
   "nbconvert_exporter": "python",
   "pygments_lexer": "ipython3",
   "version": "3.12.3"
  }
 },
 "nbformat": 4,
 "nbformat_minor": 5
}
