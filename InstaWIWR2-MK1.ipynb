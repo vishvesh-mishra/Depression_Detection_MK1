{
 "cells": [
  {
   "cell_type": "code",
   "execution_count": 2,
   "id": "96b07e0c",
   "metadata": {
    "scrolled": true
   },
   "outputs": [
    {
     "name": "stdout",
     "output_type": "stream",
     "text": [
      "Requirement already satisfied: beautifulsoup4 in d:\\capstone\\repos\\depression\\lib\\site-packages (4.12.3)\n",
      "Requirement already satisfied: requests in d:\\capstone\\repos\\depression\\lib\\site-packages (2.31.0)\n",
      "Requirement already satisfied: pandas in d:\\capstone\\repos\\depression\\lib\\site-packages (2.2.1)\n",
      "Requirement already satisfied: matplotlib in d:\\capstone\\repos\\depression\\lib\\site-packages (3.8.3)\n",
      "Requirement already satisfied: plotly in d:\\capstone\\repos\\depression\\lib\\site-packages (5.21.0)\n",
      "Requirement already satisfied: soupsieve>1.2 in d:\\capstone\\repos\\depression\\lib\\site-packages (from beautifulsoup4) (2.5)\n",
      "Requirement already satisfied: charset-normalizer<4,>=2 in d:\\capstone\\repos\\depression\\lib\\site-packages (from requests) (3.3.2)\n",
      "Requirement already satisfied: idna<4,>=2.5 in d:\\capstone\\repos\\depression\\lib\\site-packages (from requests) (3.6)\n",
      "Requirement already satisfied: urllib3<3,>=1.21.1 in d:\\capstone\\repos\\depression\\lib\\site-packages (from requests) (2.2.1)\n",
      "Requirement already satisfied: certifi>=2017.4.17 in d:\\capstone\\repos\\depression\\lib\\site-packages (from requests) (2024.2.2)\n",
      "Requirement already satisfied: numpy<2,>=1.26.0 in d:\\capstone\\repos\\depression\\lib\\site-packages (from pandas) (1.26.4)\n",
      "Requirement already satisfied: python-dateutil>=2.8.2 in d:\\capstone\\repos\\depression\\lib\\site-packages (from pandas) (2.9.0.post0)\n",
      "Requirement already satisfied: pytz>=2020.1 in d:\\capstone\\repos\\depression\\lib\\site-packages (from pandas) (2024.1)\n",
      "Requirement already satisfied: tzdata>=2022.7 in d:\\capstone\\repos\\depression\\lib\\site-packages (from pandas) (2024.1)\n",
      "Requirement already satisfied: contourpy>=1.0.1 in d:\\capstone\\repos\\depression\\lib\\site-packages (from matplotlib) (1.2.0)\n",
      "Requirement already satisfied: cycler>=0.10 in d:\\capstone\\repos\\depression\\lib\\site-packages (from matplotlib) (0.12.1)\n",
      "Requirement already satisfied: fonttools>=4.22.0 in d:\\capstone\\repos\\depression\\lib\\site-packages (from matplotlib) (4.50.0)\n",
      "Requirement already satisfied: kiwisolver>=1.3.1 in d:\\capstone\\repos\\depression\\lib\\site-packages (from matplotlib) (1.4.5)\n",
      "Requirement already satisfied: packaging>=20.0 in d:\\capstone\\repos\\depression\\lib\\site-packages (from matplotlib) (24.0)\n",
      "Requirement already satisfied: pillow>=8 in d:\\capstone\\repos\\depression\\lib\\site-packages (from matplotlib) (10.3.0)\n",
      "Requirement already satisfied: pyparsing>=2.3.1 in d:\\capstone\\repos\\depression\\lib\\site-packages (from matplotlib) (3.1.2)\n",
      "Requirement already satisfied: tenacity>=6.2.0 in d:\\capstone\\repos\\depression\\lib\\site-packages (from plotly) (8.2.3)\n",
      "Requirement already satisfied: six>=1.5 in d:\\capstone\\repos\\depression\\lib\\site-packages (from python-dateutil>=2.8.2->pandas) (1.16.0)\n"
     ]
    }
   ],
   "source": [
    "!pip install beautifulsoup4 requests pandas matplotlib plotly"
   ]
  },
  {
   "cell_type": "code",
   "execution_count": 1,
   "id": "bc4be2f6",
   "metadata": {},
   "outputs": [],
   "source": [
    "import requests\n",
    "import pandas as pd"
   ]
  },
  {
   "cell_type": "code",
   "execution_count": 5,
   "id": "e36eb226",
   "metadata": {},
   "outputs": [],
   "source": [
    "url = f'https://graph.instagram.com/me/media?fields=id,caption,media_type,media_url,timestamp&access_token=IGQWRPYnVsc3AyaTVwZAG5LcEJ4MGxNc280ZAlpFSUY3aUxFbEFIalAyWWNOQ1BTUUh4N0luT3RXZAG93RjFtek4yV3hiYkNvZAGdpcWtxclR5cHVldmxsd2duV0dKeUtBTWh0YXM0RmpfSk56OEUwTVUwVlFTUDY0SVpldTN2MmRkNGdpUQZDZD'"
   ]
  },
  {
   "cell_type": "code",
   "execution_count": 6,
   "id": "65ce47c5",
   "metadata": {},
   "outputs": [],
   "source": [
    "response = requests.get(url)"
   ]
  },
  {
   "cell_type": "code",
   "execution_count": 7,
   "id": "48208fee",
   "metadata": {},
   "outputs": [],
   "source": [
    "if response.status_code == 200:\n",
    "    data = response.json()\n",
    "else:\n",
    "    print(\"Error making the API request:\", response.text)\n",
    "    data = None"
   ]
  },
  {
   "cell_type": "code",
   "execution_count": 8,
   "id": "c1e96d4f",
   "metadata": {},
   "outputs": [
    {
     "data": {
      "text/plain": [
       "{'data': [{'id': '18049687408639342',\n",
       "   'caption': 'It gets tougher everyday',\n",
       "   'media_type': 'IMAGE',\n",
       "   'media_url': 'https://scontent.cdninstagram.com/v/t51.29350-15/440914603_1148341009700329_8794870000605352566_n.jpg?_nc_cat=105&ccb=1-7&_nc_sid=18de74&_nc_ohc=5CeyvfsYTl0Q7kNvgFC79b1&_nc_ht=scontent.cdninstagram.com&edm=ANo9K5cEAAAA&oh=00_AfBYzJ7ICjFMv6Y-znZpjX0B7K-0l4etyKir0bocJWbYyA&oe=663BD352',\n",
       "   'timestamp': '2024-05-04T10:29:34+0000'}],\n",
       " 'paging': {'cursors': {'before': 'QVFIUmwwb1FXR3NxeU5ZAUWptdDBFVlJQSU1PbVprMk9GTHMxSHdwZAk42OGNyRzhab3gwWFE1TEJvTUlmdTg5MVZArU3BWMm84MHByaFZA0cTcwR1hVa2h2M3lR',\n",
       "   'after': 'QVFIUmwwb1FXR3NxeU5ZAUWptdDBFVlJQSU1PbVprMk9GTHMxSHdwZAk42OGNyRzhab3gwWFE1TEJvTUlmdTg5MVZArU3BWMm84MHByaFZA0cTcwR1hVa2h2M3lR'}}}"
      ]
     },
     "execution_count": 8,
     "metadata": {},
     "output_type": "execute_result"
    }
   ],
   "source": [
    "data"
   ]
  },
  {
   "cell_type": "code",
   "execution_count": 9,
   "id": "41e9a646",
   "metadata": {},
   "outputs": [],
   "source": [
    "if data:\n",
    "    df = pd.DataFrame(data['data'])  # Assuming 'data' is a dictionary containing 'data' key with a list of records\n",
    "else:\n",
    "    df = pd.DataFrame(columns=['id', 'caption','mediatype','media_url','timestamp'])\n"
   ]
  },
  {
   "cell_type": "code",
   "execution_count": 10,
   "id": "0fa1078b",
   "metadata": {
    "scrolled": true
   },
   "outputs": [
    {
     "name": "stdout",
     "output_type": "stream",
     "text": [
      "                  id                   caption media_type  \\\n",
      "0  18049687408639342  It gets tougher everyday      IMAGE   \n",
      "\n",
      "                                           media_url                 timestamp  \n",
      "0  https://scontent.cdninstagram.com/v/t51.29350-...  2024-05-04T10:29:34+0000  \n"
     ]
    }
   ],
   "source": [
    "print(df)"
   ]
  },
  {
   "cell_type": "code",
   "execution_count": 11,
   "id": "0b1b3b7e",
   "metadata": {},
   "outputs": [],
   "source": [
    "df.to_csv('instagram_data.csv', index=False)"
   ]
  },
  {
   "cell_type": "code",
   "execution_count": 2,
   "id": "14dd736b",
   "metadata": {},
   "outputs": [
    {
     "name": "stdout",
     "output_type": "stream",
     "text": [
      "Requirement already satisfied: scikit-learn in d:\\capstone\\repos\\depression\\lib\\site-packages (1.4.1.post1)\n",
      "Requirement already satisfied: keras in d:\\capstone\\repos\\depression\\lib\\site-packages (3.1.1)\n",
      "Requirement already satisfied: tensorflow in d:\\capstone\\repos\\depression\\lib\\site-packages (2.16.1)\n",
      "Requirement already satisfied: numpy<2.0,>=1.19.5 in d:\\capstone\\repos\\depression\\lib\\site-packages (from scikit-learn) (1.26.4)\n",
      "Requirement already satisfied: scipy>=1.6.0 in d:\\capstone\\repos\\depression\\lib\\site-packages (from scikit-learn) (1.12.0)\n",
      "Requirement already satisfied: joblib>=1.2.0 in d:\\capstone\\repos\\depression\\lib\\site-packages (from scikit-learn) (1.3.2)\n",
      "Requirement already satisfied: threadpoolctl>=2.0.0 in d:\\capstone\\repos\\depression\\lib\\site-packages (from scikit-learn) (3.4.0)\n",
      "Requirement already satisfied: absl-py in d:\\capstone\\repos\\depression\\lib\\site-packages (from keras) (2.1.0)\n",
      "Requirement already satisfied: rich in d:\\capstone\\repos\\depression\\lib\\site-packages (from keras) (13.7.1)\n",
      "Requirement already satisfied: namex in d:\\capstone\\repos\\depression\\lib\\site-packages (from keras) (0.0.7)\n",
      "Requirement already satisfied: h5py in d:\\capstone\\repos\\depression\\lib\\site-packages (from keras) (3.10.0)\n",
      "Requirement already satisfied: optree in d:\\capstone\\repos\\depression\\lib\\site-packages (from keras) (0.11.0)\n",
      "Requirement already satisfied: ml-dtypes in d:\\capstone\\repos\\depression\\lib\\site-packages (from keras) (0.3.1)\n",
      "Requirement already satisfied: tensorflow-intel==2.16.1 in d:\\capstone\\repos\\depression\\lib\\site-packages (from tensorflow) (2.16.1)\n",
      "Requirement already satisfied: astunparse>=1.6.0 in d:\\capstone\\repos\\depression\\lib\\site-packages (from tensorflow-intel==2.16.1->tensorflow) (1.6.3)\n",
      "Requirement already satisfied: flatbuffers>=23.5.26 in d:\\capstone\\repos\\depression\\lib\\site-packages (from tensorflow-intel==2.16.1->tensorflow) (24.3.25)\n",
      "Requirement already satisfied: gast!=0.5.0,!=0.5.1,!=0.5.2,>=0.2.1 in d:\\capstone\\repos\\depression\\lib\\site-packages (from tensorflow-intel==2.16.1->tensorflow) (0.5.4)\n",
      "Requirement already satisfied: google-pasta>=0.1.1 in d:\\capstone\\repos\\depression\\lib\\site-packages (from tensorflow-intel==2.16.1->tensorflow) (0.2.0)\n",
      "Requirement already satisfied: libclang>=13.0.0 in d:\\capstone\\repos\\depression\\lib\\site-packages (from tensorflow-intel==2.16.1->tensorflow) (18.1.1)\n",
      "Requirement already satisfied: opt-einsum>=2.3.2 in d:\\capstone\\repos\\depression\\lib\\site-packages (from tensorflow-intel==2.16.1->tensorflow) (3.3.0)\n",
      "Requirement already satisfied: packaging in d:\\capstone\\repos\\depression\\lib\\site-packages (from tensorflow-intel==2.16.1->tensorflow) (24.0)\n",
      "Requirement already satisfied: protobuf!=4.21.0,!=4.21.1,!=4.21.2,!=4.21.3,!=4.21.4,!=4.21.5,<5.0.0dev,>=3.20.3 in d:\\capstone\\repos\\depression\\lib\\site-packages (from tensorflow-intel==2.16.1->tensorflow) (4.25.3)\n",
      "Requirement already satisfied: requests<3,>=2.21.0 in d:\\capstone\\repos\\depression\\lib\\site-packages (from tensorflow-intel==2.16.1->tensorflow) (2.31.0)\n",
      "Requirement already satisfied: setuptools in d:\\capstone\\repos\\depression\\lib\\site-packages (from tensorflow-intel==2.16.1->tensorflow) (65.5.0)\n",
      "Requirement already satisfied: six>=1.12.0 in d:\\capstone\\repos\\depression\\lib\\site-packages (from tensorflow-intel==2.16.1->tensorflow) (1.16.0)\n",
      "Requirement already satisfied: termcolor>=1.1.0 in d:\\capstone\\repos\\depression\\lib\\site-packages (from tensorflow-intel==2.16.1->tensorflow) (2.4.0)\n",
      "Requirement already satisfied: typing-extensions>=3.6.6 in d:\\capstone\\repos\\depression\\lib\\site-packages (from tensorflow-intel==2.16.1->tensorflow) (4.10.0)\n",
      "Requirement already satisfied: wrapt>=1.11.0 in d:\\capstone\\repos\\depression\\lib\\site-packages (from tensorflow-intel==2.16.1->tensorflow) (1.16.0)\n",
      "Requirement already satisfied: grpcio<2.0,>=1.24.3 in d:\\capstone\\repos\\depression\\lib\\site-packages (from tensorflow-intel==2.16.1->tensorflow) (1.62.1)\n",
      "Requirement already satisfied: tensorboard<2.17,>=2.16 in d:\\capstone\\repos\\depression\\lib\\site-packages (from tensorflow-intel==2.16.1->tensorflow) (2.16.2)\n",
      "Requirement already satisfied: tensorflow-io-gcs-filesystem>=0.23.1 in d:\\capstone\\repos\\depression\\lib\\site-packages (from tensorflow-intel==2.16.1->tensorflow) (0.31.0)\n",
      "Requirement already satisfied: markdown-it-py>=2.2.0 in d:\\capstone\\repos\\depression\\lib\\site-packages (from rich->keras) (3.0.0)\n",
      "Requirement already satisfied: pygments<3.0.0,>=2.13.0 in d:\\capstone\\repos\\depression\\lib\\site-packages (from rich->keras) (2.17.2)\n",
      "Requirement already satisfied: wheel<1.0,>=0.23.0 in d:\\capstone\\repos\\depression\\lib\\site-packages (from astunparse>=1.6.0->tensorflow-intel==2.16.1->tensorflow) (0.43.0)\n",
      "Requirement already satisfied: mdurl~=0.1 in d:\\capstone\\repos\\depression\\lib\\site-packages (from markdown-it-py>=2.2.0->rich->keras) (0.1.2)\n",
      "Requirement already satisfied: charset-normalizer<4,>=2 in d:\\capstone\\repos\\depression\\lib\\site-packages (from requests<3,>=2.21.0->tensorflow-intel==2.16.1->tensorflow) (3.3.2)\n",
      "Requirement already satisfied: idna<4,>=2.5 in d:\\capstone\\repos\\depression\\lib\\site-packages (from requests<3,>=2.21.0->tensorflow-intel==2.16.1->tensorflow) (3.6)\n",
      "Requirement already satisfied: urllib3<3,>=1.21.1 in d:\\capstone\\repos\\depression\\lib\\site-packages (from requests<3,>=2.21.0->tensorflow-intel==2.16.1->tensorflow) (2.2.1)\n",
      "Requirement already satisfied: certifi>=2017.4.17 in d:\\capstone\\repos\\depression\\lib\\site-packages (from requests<3,>=2.21.0->tensorflow-intel==2.16.1->tensorflow) (2024.2.2)\n",
      "Requirement already satisfied: markdown>=2.6.8 in d:\\capstone\\repos\\depression\\lib\\site-packages (from tensorboard<2.17,>=2.16->tensorflow-intel==2.16.1->tensorflow) (3.6)\n",
      "Requirement already satisfied: tensorboard-data-server<0.8.0,>=0.7.0 in d:\\capstone\\repos\\depression\\lib\\site-packages (from tensorboard<2.17,>=2.16->tensorflow-intel==2.16.1->tensorflow) (0.7.2)\n",
      "Requirement already satisfied: werkzeug>=1.0.1 in d:\\capstone\\repos\\depression\\lib\\site-packages (from tensorboard<2.17,>=2.16->tensorflow-intel==2.16.1->tensorflow) (3.0.2)\n",
      "Requirement already satisfied: MarkupSafe>=2.1.1 in d:\\capstone\\repos\\depression\\lib\\site-packages (from werkzeug>=1.0.1->tensorboard<2.17,>=2.16->tensorflow-intel==2.16.1->tensorflow) (2.1.5)\n"
     ]
    },
    {
     "name": "stderr",
     "output_type": "stream",
     "text": [
      "\n",
      "[notice] A new release of pip available: 22.3 -> 24.0\n",
      "[notice] To update, run: python.exe -m pip install --upgrade pip\n"
     ]
    }
   ],
   "source": [
    "!pip install scikit-learn keras tensorflow\n"
   ]
  },
  {
   "cell_type": "code",
   "execution_count": 12,
   "id": "f8840746",
   "metadata": {},
   "outputs": [],
   "source": [
    "import tensorflow as tf\n",
    "from tensorflow.keras.preprocessing.text import Tokenizer\n",
    "from sklearn.model_selection import train_test_split\n",
    "from keras.preprocessing.sequence import pad_sequences\n",
    "from keras.models import Sequential\n",
    "from keras.models import Model\n",
    "from keras.layers import Embedding, Bidirectional, LSTM, Dense, Input, Concatenate, Dot, Activation"
   ]
  },
  {
   "cell_type": "code",
   "execution_count": 43,
   "id": "333c42de",
   "metadata": {},
   "outputs": [],
   "source": [
    "training_data = pd.read_csv('training_data.csv')"
   ]
  },
  {
   "cell_type": "code",
   "execution_count": 45,
   "id": "d59bb3e9",
   "metadata": {},
   "outputs": [],
   "source": [
    "instagram_data = pd.read_csv('instagram_data.csv',encoding='latin-1')"
   ]
  },
  {
   "cell_type": "code",
   "execution_count": 46,
   "id": "f9271148",
   "metadata": {},
   "outputs": [],
   "source": [
    "instagram_data.dropna(subset=['caption'], inplace=True)\n",
    "X_train = training_data['caption'].astype(str)\n",
    "y_train = training_data['depression_label']\n",
    "X_test = instagram_data['caption'].astype(str)"
   ]
  },
  {
   "cell_type": "code",
   "execution_count": 47,
   "id": "fae6e4bf",
   "metadata": {},
   "outputs": [],
   "source": [
    "tokenizer = Tokenizer()\n",
    "tokenizer.fit_on_texts(X_train)\n",
    "X_train_seq = tokenizer.texts_to_sequences(X_train)\n",
    "X_test_seq = tokenizer.texts_to_sequences(X_test)"
   ]
  },
  {
   "cell_type": "code",
   "execution_count": 48,
   "id": "00446c59",
   "metadata": {},
   "outputs": [],
   "source": [
    "max_len = 100  # Define your maximum sequence length\n",
    "X_train_pad = pad_sequences(X_train_seq, maxlen=max_len, padding='post')\n",
    "X_test_pad = pad_sequences(X_test_seq, maxlen=max_len, padding='post')"
   ]
  },
  {
   "cell_type": "code",
   "execution_count": 49,
   "id": "c104f5fc",
   "metadata": {},
   "outputs": [],
   "source": [
    "input_layer = Input(shape=(max_len,))\n",
    "embedding_layer = Embedding(input_dim=len(tokenizer.word_index)+1, output_dim=100)(input_layer)\n",
    "lstm_layer = Bidirectional(LSTM(64, return_sequences=True))(embedding_layer)\n",
    "attention = Dense(1, activation='tanh')(lstm_layer)\n",
    "attention = Activation('sigmoid')(attention)\n",
    "context = Dot(axes=1)([attention, lstm_layer])\n",
    "output_layer = Dense(1, activation='sigmoid')(context)\n",
    "\n",
    "model = Model(inputs=[input_layer], outputs=output_layer)"
   ]
  },
  {
   "cell_type": "code",
   "execution_count": 50,
   "id": "e7624659",
   "metadata": {},
   "outputs": [],
   "source": [
    "model.compile(optimizer='adam', loss='binary_crossentropy', metrics=['accuracy'])"
   ]
  },
  {
   "cell_type": "code",
   "execution_count": 51,
   "id": "515d795d",
   "metadata": {},
   "outputs": [
    {
     "name": "stdout",
     "output_type": "stream",
     "text": [
      "Epoch 1/10\n",
      "\u001b[1m121/121\u001b[0m \u001b[32m━━━━━━━━━━━━━━━━━━━━\u001b[0m\u001b[37m\u001b[0m \u001b[1m12s\u001b[0m 64ms/step - accuracy: 0.7817 - loss: 0.7387\n",
      "Epoch 2/10\n",
      "\u001b[1m121/121\u001b[0m \u001b[32m━━━━━━━━━━━━━━━━━━━━\u001b[0m\u001b[37m\u001b[0m \u001b[1m8s\u001b[0m 66ms/step - accuracy: 0.9485 - loss: 0.1583\n",
      "Epoch 3/10\n",
      "\u001b[1m121/121\u001b[0m \u001b[32m━━━━━━━━━━━━━━━━━━━━\u001b[0m\u001b[37m\u001b[0m \u001b[1m8s\u001b[0m 63ms/step - accuracy: 0.9779 - loss: 0.0817\n",
      "Epoch 4/10\n",
      "\u001b[1m121/121\u001b[0m \u001b[32m━━━━━━━━━━━━━━━━━━━━\u001b[0m\u001b[37m\u001b[0m \u001b[1m7s\u001b[0m 61ms/step - accuracy: 0.9882 - loss: 0.0451\n",
      "Epoch 5/10\n",
      "\u001b[1m121/121\u001b[0m \u001b[32m━━━━━━━━━━━━━━━━━━━━\u001b[0m\u001b[37m\u001b[0m \u001b[1m7s\u001b[0m 61ms/step - accuracy: 0.9904 - loss: 0.0344\n",
      "Epoch 6/10\n",
      "\u001b[1m121/121\u001b[0m \u001b[32m━━━━━━━━━━━━━━━━━━━━\u001b[0m\u001b[37m\u001b[0m \u001b[1m7s\u001b[0m 61ms/step - accuracy: 0.9930 - loss: 0.0241\n",
      "Epoch 7/10\n",
      "\u001b[1m121/121\u001b[0m \u001b[32m━━━━━━━━━━━━━━━━━━━━\u001b[0m\u001b[37m\u001b[0m \u001b[1m8s\u001b[0m 62ms/step - accuracy: 0.9928 - loss: 0.0252\n",
      "Epoch 8/10\n",
      "\u001b[1m121/121\u001b[0m \u001b[32m━━━━━━━━━━━━━━━━━━━━\u001b[0m\u001b[37m\u001b[0m \u001b[1m8s\u001b[0m 64ms/step - accuracy: 0.9964 - loss: 0.0159\n",
      "Epoch 9/10\n",
      "\u001b[1m121/121\u001b[0m \u001b[32m━━━━━━━━━━━━━━━━━━━━\u001b[0m\u001b[37m\u001b[0m \u001b[1m9s\u001b[0m 74ms/step - accuracy: 0.9958 - loss: 0.0162\n",
      "Epoch 10/10\n",
      "\u001b[1m121/121\u001b[0m \u001b[32m━━━━━━━━━━━━━━━━━━━━\u001b[0m\u001b[37m\u001b[0m \u001b[1m8s\u001b[0m 64ms/step - accuracy: 0.9967 - loss: 0.0122\n"
     ]
    },
    {
     "data": {
      "text/plain": [
       "<keras.src.callbacks.history.History at 0x24a59883320>"
      ]
     },
     "execution_count": 51,
     "metadata": {},
     "output_type": "execute_result"
    }
   ],
   "source": [
    "model.fit(X_train_pad, y_train, epochs=10, batch_size=64)"
   ]
  },
  {
   "cell_type": "code",
   "execution_count": 52,
   "id": "c221f47b",
   "metadata": {},
   "outputs": [
    {
     "name": "stdout",
     "output_type": "stream",
     "text": [
      "\u001b[1m1/1\u001b[0m \u001b[32m━━━━━━━━━━━━━━━━━━━━\u001b[0m\u001b[37m\u001b[0m \u001b[1m0s\u001b[0m 332ms/step\n"
     ]
    }
   ],
   "source": [
    "predicted_labels = model.predict(X_test_pad)"
   ]
  },
  {
   "cell_type": "code",
   "execution_count": 53,
   "id": "c4d98655",
   "metadata": {},
   "outputs": [],
   "source": [
    "instagram_data['predicted_depression_label'] = predicted_labels.reshape(-1)\n"
   ]
  },
  {
   "cell_type": "code",
   "execution_count": 54,
   "id": "04d49a6d",
   "metadata": {},
   "outputs": [],
   "source": [
    "depressing_captions = instagram_data[instagram_data['predicted_depression_label'] > 0.9]['caption']\n"
   ]
  },
  {
   "cell_type": "code",
   "execution_count": 55,
   "id": "b6981c3e",
   "metadata": {},
   "outputs": [
    {
     "name": "stdout",
     "output_type": "stream",
     "text": [
      "Everyday it gets harder.\n",
      "\n",
      "Everyday it's like a nightmare\n",
      "progressing on.\n",
      "\n",
      "Everyday is another prayer\n",
      "echohing from my bones\n",
      "asking God\n",
      "to take me now.\n",
      "\n",
      "Everyday I close up more.\n",
      "\n",
      "Everyday it gets more impossible.\n",
      "\n",
      "Everyday I feel myself die some more.\n",
      "\n",
      "Everyday | lay on my bed\n",
      "wondering how\n",
      "I'll leave this hell.\n",
      "\n",
      "I've never felt so much pain.\n",
      "Depression and No tears left to cry snatched me bold\n",
      "is there a surgery to fix my depression?\n",
      "You ever just... Get happy... To flex on... The homies with depression\n",
      "The world was suffering from the Great Depression\n",
      "my new hyper fixation is janelle monáe i love depression\n",
      "i can b happy for a split sec then depression just like \"\"neck bitch\"\"\n",
      "Have a small penis?Yes?You suffer from Depression.This causes loneliness.Try Adderall\n"
     ]
    }
   ],
   "source": [
    "for caption in depressing_captions:\n",
    "    print(caption)\n"
   ]
  },
  {
   "cell_type": "code",
   "execution_count": 56,
   "id": "1d4401b7",
   "metadata": {},
   "outputs": [
    {
     "data": {
      "text/html": [
       "<div>\n",
       "<style scoped>\n",
       "    .dataframe tbody tr th:only-of-type {\n",
       "        vertical-align: middle;\n",
       "    }\n",
       "\n",
       "    .dataframe tbody tr th {\n",
       "        vertical-align: top;\n",
       "    }\n",
       "\n",
       "    .dataframe thead th {\n",
       "        text-align: right;\n",
       "    }\n",
       "</style>\n",
       "<table border=\"1\" class=\"dataframe\">\n",
       "  <thead>\n",
       "    <tr style=\"text-align: right;\">\n",
       "      <th></th>\n",
       "      <th>id</th>\n",
       "      <th>caption</th>\n",
       "      <th>media_type</th>\n",
       "      <th>media_url</th>\n",
       "      <th>timestamp</th>\n",
       "      <th>predicted_depression_label</th>\n",
       "    </tr>\n",
       "  </thead>\n",
       "  <tbody>\n",
       "    <tr>\n",
       "      <th>0</th>\n",
       "      <td>1.800000e+16</td>\n",
       "      <td>Everyday it gets harder.\\n\\nEveryday it's like...</td>\n",
       "      <td>IMAGE</td>\n",
       "      <td>https://scontent.cdninstagram.com/v/t51.29350-...</td>\n",
       "      <td>2024-05-04T10:29:34+0000</td>\n",
       "      <td>1.0</td>\n",
       "    </tr>\n",
       "    <tr>\n",
       "      <th>1</th>\n",
       "      <td>1.800000e+16</td>\n",
       "      <td>Depression and No tears left to cry snatched m...</td>\n",
       "      <td>IMAGE</td>\n",
       "      <td>https://scontent.cdninstagram.com/v/t51.29350-...</td>\n",
       "      <td>2024-05-04T10:29:34+0001</td>\n",
       "      <td>1.0</td>\n",
       "    </tr>\n",
       "    <tr>\n",
       "      <th>2</th>\n",
       "      <td>1.800000e+16</td>\n",
       "      <td>is there a surgery to fix my depression?</td>\n",
       "      <td>IMAGE</td>\n",
       "      <td>https://scontent.cdninstagram.com/v/t51.29350-...</td>\n",
       "      <td>2024-05-04T10:29:34+0002</td>\n",
       "      <td>1.0</td>\n",
       "    </tr>\n",
       "    <tr>\n",
       "      <th>3</th>\n",
       "      <td>1.800000e+16</td>\n",
       "      <td>You ever just... Get happy... To flex on... Th...</td>\n",
       "      <td>IMAGE</td>\n",
       "      <td>https://scontent.cdninstagram.com/v/t51.29350-...</td>\n",
       "      <td>2024-05-04T10:29:34+0003</td>\n",
       "      <td>1.0</td>\n",
       "    </tr>\n",
       "    <tr>\n",
       "      <th>4</th>\n",
       "      <td>1.800000e+16</td>\n",
       "      <td>The world was suffering from the Great Depression</td>\n",
       "      <td>IMAGE</td>\n",
       "      <td>https://scontent.cdninstagram.com/v/t51.29350-...</td>\n",
       "      <td>2024-05-04T10:29:34+0004</td>\n",
       "      <td>1.0</td>\n",
       "    </tr>\n",
       "    <tr>\n",
       "      <th>5</th>\n",
       "      <td>1.800000e+16</td>\n",
       "      <td>my new hyper fixation is janelle monáe i love ...</td>\n",
       "      <td>IMAGE</td>\n",
       "      <td>https://scontent.cdninstagram.com/v/t51.29350-...</td>\n",
       "      <td>2024-05-04T10:29:34+0005</td>\n",
       "      <td>1.0</td>\n",
       "    </tr>\n",
       "    <tr>\n",
       "      <th>6</th>\n",
       "      <td>1.800000e+16</td>\n",
       "      <td>i can b happy for a split sec then depression ...</td>\n",
       "      <td>IMAGE</td>\n",
       "      <td>https://scontent.cdninstagram.com/v/t51.29350-...</td>\n",
       "      <td>2024-05-04T10:29:34+0006</td>\n",
       "      <td>1.0</td>\n",
       "    </tr>\n",
       "    <tr>\n",
       "      <th>7</th>\n",
       "      <td>1.800000e+16</td>\n",
       "      <td>Have a small penis?Yes?You suffer from Depress...</td>\n",
       "      <td>IMAGE</td>\n",
       "      <td>https://scontent.cdninstagram.com/v/t51.29350-...</td>\n",
       "      <td>2024-05-04T10:29:34+0007</td>\n",
       "      <td>1.0</td>\n",
       "    </tr>\n",
       "  </tbody>\n",
       "</table>\n",
       "</div>"
      ],
      "text/plain": [
       "             id                                            caption media_type  \\\n",
       "0  1.800000e+16  Everyday it gets harder.\\n\\nEveryday it's like...      IMAGE   \n",
       "1  1.800000e+16  Depression and No tears left to cry snatched m...      IMAGE   \n",
       "2  1.800000e+16           is there a surgery to fix my depression?      IMAGE   \n",
       "3  1.800000e+16  You ever just... Get happy... To flex on... Th...      IMAGE   \n",
       "4  1.800000e+16  The world was suffering from the Great Depression      IMAGE   \n",
       "5  1.800000e+16  my new hyper fixation is janelle monáe i love ...      IMAGE   \n",
       "6  1.800000e+16  i can b happy for a split sec then depression ...      IMAGE   \n",
       "7  1.800000e+16  Have a small penis?Yes?You suffer from Depress...      IMAGE   \n",
       "\n",
       "                                           media_url  \\\n",
       "0  https://scontent.cdninstagram.com/v/t51.29350-...   \n",
       "1  https://scontent.cdninstagram.com/v/t51.29350-...   \n",
       "2  https://scontent.cdninstagram.com/v/t51.29350-...   \n",
       "3  https://scontent.cdninstagram.com/v/t51.29350-...   \n",
       "4  https://scontent.cdninstagram.com/v/t51.29350-...   \n",
       "5  https://scontent.cdninstagram.com/v/t51.29350-...   \n",
       "6  https://scontent.cdninstagram.com/v/t51.29350-...   \n",
       "7  https://scontent.cdninstagram.com/v/t51.29350-...   \n",
       "\n",
       "                  timestamp  predicted_depression_label  \n",
       "0  2024-05-04T10:29:34+0000                         1.0  \n",
       "1  2024-05-04T10:29:34+0001                         1.0  \n",
       "2  2024-05-04T10:29:34+0002                         1.0  \n",
       "3  2024-05-04T10:29:34+0003                         1.0  \n",
       "4  2024-05-04T10:29:34+0004                         1.0  \n",
       "5  2024-05-04T10:29:34+0005                         1.0  \n",
       "6  2024-05-04T10:29:34+0006                         1.0  \n",
       "7  2024-05-04T10:29:34+0007                         1.0  "
      ]
     },
     "execution_count": 56,
     "metadata": {},
     "output_type": "execute_result"
    }
   ],
   "source": [
    "instagram_data"
   ]
  },
  {
   "cell_type": "markdown",
   "id": "29c2cf3f",
   "metadata": {},
   "source": [
    "# trying to fit a distribution here"
   ]
  },
  {
   "cell_type": "code",
   "execution_count": 57,
   "id": "b2ff5336",
   "metadata": {},
   "outputs": [],
   "source": [
    "# Define the threshold value\n",
    "threshold = 0.5\n",
    "\n",
    "# Classify users based on the predicted depression labels\n",
    "instagram_data['predicted_depression_class'] = instagram_data['predicted_depression_label'].apply(lambda x: 1 if x >= threshold else 0)\n"
   ]
  },
  {
   "cell_type": "code",
   "execution_count": 58,
   "id": "aa16a601",
   "metadata": {},
   "outputs": [
    {
     "name": "stdout",
     "output_type": "stream",
     "text": [
      "                                             caption  \\\n",
      "0  Everyday it gets harder.\\n\\nEveryday it's like...   \n",
      "1  Depression and No tears left to cry snatched m...   \n",
      "2           is there a surgery to fix my depression?   \n",
      "3  You ever just... Get happy... To flex on... Th...   \n",
      "4  The world was suffering from the Great Depression   \n",
      "5  my new hyper fixation is janelle monáe i love ...   \n",
      "6  i can b happy for a split sec then depression ...   \n",
      "7  Have a small penis?Yes?You suffer from Depress...   \n",
      "\n",
      "   predicted_depression_label  predicted_depression_class  \n",
      "0                         1.0                           1  \n",
      "1                         1.0                           1  \n",
      "2                         1.0                           1  \n",
      "3                         1.0                           1  \n",
      "4                         1.0                           1  \n",
      "5                         1.0                           1  \n",
      "6                         1.0                           1  \n",
      "7                         1.0                           1  \n"
     ]
    }
   ],
   "source": [
    "# Display the users and their predicted depression class\n",
    "print(instagram_data[['caption', 'predicted_depression_label', 'predicted_depression_class']])"
   ]
  },
  {
   "cell_type": "code",
   "execution_count": 59,
   "id": "7215c72d",
   "metadata": {},
   "outputs": [],
   "source": [
    "import numpy as np\n",
    "import matplotlib.pyplot as plt\n",
    "from scipy.stats import norm, gamma, beta\n"
   ]
  },
  {
   "cell_type": "code",
   "execution_count": 61,
   "id": "dc5f39ab",
   "metadata": {},
   "outputs": [],
   "source": [
    "mu, std = norm.fit(instagram_data['predicted_depression_label'])\n"
   ]
  },
  {
   "cell_type": "code",
   "execution_count": 64,
   "id": "1148bd31",
   "metadata": {},
   "outputs": [
    {
     "name": "stdout",
     "output_type": "stream",
     "text": [
      "0    1.0\n",
      "1    1.0\n",
      "2    1.0\n",
      "3    1.0\n",
      "4    1.0\n",
      "5    1.0\n",
      "6    1.0\n",
      "7    1.0\n",
      "Name: predicted_depression_label, dtype: float32\n"
     ]
    }
   ],
   "source": [
    "print(instagram_data['predicted_depression_label'])"
   ]
  },
  {
   "cell_type": "code",
   "execution_count": 63,
   "id": "f9dca46a",
   "metadata": {},
   "outputs": [
    {
     "name": "stderr",
     "output_type": "stream",
     "text": [
      "c:\\Users\\mvish\\AppData\\Local\\Programs\\Python\\Python312\\Lib\\site-packages\\numpy\\lib\\histograms.py:885: RuntimeWarning: divide by zero encountered in divide\n",
      "  return n/db/n.sum(), bin_edges\n",
      "c:\\Users\\mvish\\AppData\\Local\\Programs\\Python\\Python312\\Lib\\site-packages\\numpy\\lib\\histograms.py:885: RuntimeWarning: invalid value encountered in divide\n",
      "  return n/db/n.sum(), bin_edges\n"
     ]
    },
    {
     "data": {
      "image/png": "[encoded data removed]",
      "text/plain": [
       "<Figure size 640x480 with 1 Axes>"
      ]
     },
     "metadata": {},
     "output_type": "display_data"
    }
   ],
   "source": [
    "plt.hist(instagram_data['predicted_depression_label'], bins=25, density=True, alpha=0.6, color='g')\n",
    "xmin, xmax = plt.xlim()\n",
    "x = np.linspace(xmin, xmax, 100)\n",
    "p = norm.pdf(x, mu, std)\n",
    "plt.plot(x, p, 'k', linewidth=2)\n",
    "title = \"Fit results: mu = %.2f,  std = %.2f\" % (mu, std)\n",
    "plt.title(title)\n",
    "plt.show()\n"
   ]
  },
  {
   "cell_type": "code",
   "execution_count": null,
   "id": "ae87deb6",
   "metadata": {},
   "outputs": [],
   "source": []
  }
 ],
 "metadata": {
  "kernelspec": {
   "display_name": "Python 3 (ipykernel)",
   "language": "python",
   "name": "python3"
  },
  "language_info": {
   "codemirror_mode": {
    "name": "ipython",
    "version": 3
   },
   "file_extension": ".py",
   "mimetype": "text/x-python",
   "name": "python",
   "nbconvert_exporter": "python",
   "pygments_lexer": "ipython3",
   "version": "3.12.3"
  }
 },
 "nbformat": 4,
 "nbformat_minor": 5
}
