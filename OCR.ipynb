{
 "cells": [
  {
   "cell_type": "code",
   "execution_count": 1,
   "metadata": {},
   "outputs": [],
   "source": [
    "\n",
    "from PIL import Image \n",
    "from pytesseract import pytesseract "
   ]
  },
  {
   "cell_type": "code",
   "execution_count": 18,
   "metadata": {},
   "outputs": [],
   "source": [
    "# Defining paths to tesseract.exe \n",
    "# and the image we would be using \n",
    "path_to_tesseract = r\"D:/Softwares/Tesseract-OCR/tesseract.exe\"\n",
    "image_path = r\"https://drive.google.com/file/d/1464eITlYD5j8LHFToHeiwtDggRDkW82K/view?usp=sharing\"\n",
    "# image_path = r\"Images/Multilines.jpg.png\""
   ]
  },
  {
   "cell_type": "code",
   "execution_count": 19,
   "metadata": {},
   "outputs": [
    {
     "ename": "OSError",
     "evalue": "[Errno 22] Invalid argument: 'D:\\\\Capstone\\\\Repos\\\\Depression_detection\\\\https:\\\\drive.google.com\\\\file\\\\d\\\\1464eITlYD5j8LHFToHeiwtDggRDkW82K\\\\view?usp=sharing'",
     "output_type": "error",
     "traceback": [
      "\u001b[1;31m---------------------------------------------------------------------------\u001b[0m",
      "\u001b[1;31mOSError\u001b[0m                                   Traceback (most recent call last)",
      "Cell \u001b[1;32mIn[19], line 2\u001b[0m\n\u001b[0;32m      1\u001b[0m \u001b[38;5;66;03m# Opening the image & storing it in an image object \u001b[39;00m\n\u001b[1;32m----> 2\u001b[0m img \u001b[38;5;241m=\u001b[39m \u001b[43mImage\u001b[49m\u001b[38;5;241;43m.\u001b[39;49m\u001b[43mopen\u001b[49m\u001b[43m(\u001b[49m\u001b[43mimage_path\u001b[49m\u001b[43m)\u001b[49m \n",
      "File \u001b[1;32mc:\\Users\\mvish\\AppData\\Local\\Programs\\Python\\Python312\\Lib\\site-packages\\PIL\\Image.py:3277\u001b[0m, in \u001b[0;36mopen\u001b[1;34m(fp, mode, formats)\u001b[0m\n\u001b[0;32m   3274\u001b[0m     filename \u001b[38;5;241m=\u001b[39m os\u001b[38;5;241m.\u001b[39mpath\u001b[38;5;241m.\u001b[39mrealpath(os\u001b[38;5;241m.\u001b[39mfspath(fp))\n\u001b[0;32m   3276\u001b[0m \u001b[38;5;28;01mif\u001b[39;00m filename:\n\u001b[1;32m-> 3277\u001b[0m     fp \u001b[38;5;241m=\u001b[39m \u001b[43mbuiltins\u001b[49m\u001b[38;5;241;43m.\u001b[39;49m\u001b[43mopen\u001b[49m\u001b[43m(\u001b[49m\u001b[43mfilename\u001b[49m\u001b[43m,\u001b[49m\u001b[43m \u001b[49m\u001b[38;5;124;43m\"\u001b[39;49m\u001b[38;5;124;43mrb\u001b[39;49m\u001b[38;5;124;43m\"\u001b[39;49m\u001b[43m)\u001b[49m\n\u001b[0;32m   3278\u001b[0m     exclusive_fp \u001b[38;5;241m=\u001b[39m \u001b[38;5;28;01mTrue\u001b[39;00m\n\u001b[0;32m   3280\u001b[0m \u001b[38;5;28;01mtry\u001b[39;00m:\n",
      "\u001b[1;31mOSError\u001b[0m: [Errno 22] Invalid argument: 'D:\\\\Capstone\\\\Repos\\\\Depression_detection\\\\https:\\\\drive.google.com\\\\file\\\\d\\\\1464eITlYD5j8LHFToHeiwtDggRDkW82K\\\\view?usp=sharing'"
     ]
    }
   ],
   "source": [
    "# Opening the image & storing it in an image object \n",
    "img = Image.open(image_path) "
   ]
  },
  {
   "cell_type": "code",
   "execution_count": 15,
   "metadata": {},
   "outputs": [],
   "source": [
    "# Providing the tesseract executable \n",
    "# location to pytesseract library \n",
    "pytesseract.tesseract_cmd = path_to_tesseract "
   ]
  },
  {
   "cell_type": "code",
   "execution_count": 16,
   "metadata": {},
   "outputs": [],
   "source": [
    "text = pytesseract.image_to_string(img) "
   ]
  },
  {
   "cell_type": "code",
   "execution_count": 17,
   "metadata": {},
   "outputs": [
    {
     "name": "stdout",
     "output_type": "stream",
     "text": [
      "1] ~\n",
      "pression ™Bepression\n",
      "\n",
      "Depression\n",
      "OPpression\n",
      "\n",
      "epieas Tisiaee Di q\n",
      "re ‘SilBeBREESIon\n",
      "\n",
      "5 Depression Wl oression”\n",
      "epression Dépressign\n",
      "\n",
      "a\n",
      "Dept pore tee he\n",
      "\n",
      "Depressions\n",
      "\n",
      "“Depression,;,\n",
      "\n",
      "b pressloie” Epression ««\n",
      "\n",
      "Depress ion\n",
      "\n",
      "2>SSsion ‘\n",
      "Depression\n",
      "\n",
      "www shutterstock.com -530673772\n"
     ]
    }
   ],
   "source": [
    "print(text[:-1])"
   ]
  },
  {
   "cell_type": "markdown",
   "metadata": {},
   "source": [
    "# CODE FOR USING IMAGE VIA A LINK"
   ]
  },
  {
   "cell_type": "code",
   "execution_count": 20,
   "metadata": {},
   "outputs": [],
   "source": [
    "from PIL import Image \n",
    "from io import BytesIO\n",
    "import requests\n",
    "from pytesseract import pytesseract \n"
   ]
  },
  {
   "cell_type": "code",
   "execution_count": 22,
   "metadata": {},
   "outputs": [],
   "source": [
    "# Defining paths to tesseract.exe  \n",
    "# and the image we would be using \n",
    "path_to_tesseract = r\"D:/Softwares/Tesseract-OCR/tesseract.exe\"\n",
    "image_url = \"https://scontent.cdninstagram.com/v/t51.29350-15/440914603_1148341009700329_8794870000605352566_n.jpg?_nc_cat=105&ccb=1-7&_nc_sid=18de74&_nc_ohc=5CeyvfsYTl0Q7kNvgFC79b1&_nc_ht=scontent.cdninstagram.com&edm=ANo9K5cEAAAA&oh=00_AfBYzJ7ICjFMv6Y-znZpjX0B7K-0l4etyKir0bocJWbYyA&oe=663BD352\"\n"
   ]
  },
  {
   "cell_type": "code",
   "execution_count": 23,
   "metadata": {},
   "outputs": [],
   "source": [
    "# Downloading the image from the URL\n",
    "response = requests.get(image_url)\n",
    "img = Image.open(BytesIO(response.content))"
   ]
  },
  {
   "cell_type": "code",
   "execution_count": 25,
   "metadata": {},
   "outputs": [],
   "source": [
    "# Providing the tesseract  \n",
    "# executable location to pytesseract library \n",
    "pytesseract.tesseract_cmd = path_to_tesseract"
   ]
  },
  {
   "cell_type": "code",
   "execution_count": 26,
   "metadata": {},
   "outputs": [],
   "source": [
    "# Passing the image object to  \n",
    "# image_to_string() function \n",
    "# This function will \n",
    "# extract the text from the image \n",
    "text = pytesseract.image_to_string(img) "
   ]
  },
  {
   "cell_type": "code",
   "execution_count": 27,
   "metadata": {},
   "outputs": [
    {
     "name": "stdout",
     "output_type": "stream",
     "text": [
      "Everyday it gets harder.\n",
      "\n",
      "Everyday it's like a nightmare\n",
      "progressing on.\n",
      "\n",
      "Everyday is another prayer\n",
      "echohing from my bones\n",
      "asking God\n",
      "to take me now.\n",
      "\n",
      "Everyday I close up more.\n",
      "\n",
      "Everyday it gets more impossible.\n",
      "\n",
      "Everyday I feel myself die some more.\n",
      "\n",
      "Everyday | lay on my bed\n",
      "wondering how\n",
      "I'll leave this hell.\n",
      "\n",
      "I've never felt so much pain.\n",
      "\n"
     ]
    }
   ],
   "source": [
    "# Displaying the extracted text \n",
    "print(text)"
   ]
  },
  {
   "cell_type": "code",
   "execution_count": null,
   "metadata": {},
   "outputs": [],
   "source": []
  }
 ],
 "metadata": {
  "kernelspec": {
   "display_name": "Python 3",
   "language": "python",
   "name": "python3"
  },
  "language_info": {
   "codemirror_mode": {
    "name": "ipython",
    "version": 3
   },
   "file_extension": ".py",
   "mimetype": "text/x-python",
   "name": "python",
   "nbconvert_exporter": "python",
   "pygments_lexer": "ipython3",
   "version": "3.12.3"
  }
 },
 "nbformat": 4,
 "nbformat_minor": 2
}
